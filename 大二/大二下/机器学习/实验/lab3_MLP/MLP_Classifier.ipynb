{
 "cells": [
  {
   "cell_type": "markdown",
   "id": "43a6304e",
   "metadata": {},
   "source": [
    "#### Import packages"
   ]
  },
  {
   "cell_type": "code",
   "execution_count": null,
   "id": "44c57e3f",
   "metadata": {},
   "outputs": [],
   "source": [
    "from sklearn import datasets\n",
    "from sklearn.model_selection import train_test_split\n",
    "from sklearn.neural_network import MLPClassifier\n",
    "from sklearn.metrics import precision_score, recall_score, f1_score\n",
    "from sklearn.model_selection import GridSearchCV\n",
    "from sklearn.preprocessing import StandardScaler"
   ]
  },
  {
   "cell_type": "markdown",
   "id": "424fa5cf",
   "metadata": {},
   "source": [
    "#### Load dataset and split"
   ]
  },
  {
   "cell_type": "code",
   "execution_count": 19,
   "id": "2143304c",
   "metadata": {},
   "outputs": [],
   "source": [
    "dataset = datasets.load_digits()\n",
    "X = dataset.data\n",
    "y = dataset.target\n",
    "\n",
    "X_train, X_test, y_train, y_test = train_test_split(X, y, test_size=0.2, random_state=42)"
   ]
  },
  {
   "cell_type": "markdown",
   "id": "f3de7a5d",
   "metadata": {},
   "source": [
    "#### Define the model, fit and predict"
   ]
  },
  {
   "cell_type": "code",
   "execution_count": 22,
   "id": "dd248090",
   "metadata": {},
   "outputs": [
    {
     "name": "stdout",
     "output_type": "stream",
     "text": [
      "\n",
      "=== Activation func: identity ===\n",
      "Precision: 0.9676\n",
      "Recall: 0.9683\n",
      "F1 Score: 0.9678\n",
      "\n",
      "=== Activation func: logistic ===\n",
      "Precision: 0.9741\n",
      "Recall: 0.9740\n",
      "F1 Score: 0.9740\n",
      "\n",
      "=== Activation func: tanh ===\n",
      "Precision: 0.9706\n",
      "Recall: 0.9702\n",
      "F1 Score: 0.9702\n",
      "\n",
      "=== Activation func: relu ===\n",
      "Precision: 0.9737\n",
      "Recall: 0.9722\n",
      "F1 Score: 0.9727\n"
     ]
    }
   ],
   "source": [
    "activation_functions = ['identity', 'logistic', 'tanh', 'relu']\n",
    "results_raw = []\n",
    "\n",
    "max_iter = 10000\n",
    "\n",
    "# Standard Scaler for feature scaling\n",
    "scaler = StandardScaler()\n",
    "X_train_scaled = scaler.fit_transform(X_train)\n",
    "X_test_scaled = scaler.transform(X_test)\n",
    "\n",
    "results_scaled = []\n",
    "\n",
    "for activation in activation_functions:\n",
    "    print(f\"\\n=== Activation func: {activation} ===\")\n",
    "    \n",
    "    mlp = MLPClassifier(\n",
    "        solver='adam',\n",
    "        hidden_layer_sizes=(50,),\n",
    "        activation=activation,\n",
    "        max_iter=max_iter,\n",
    "        random_state=42\n",
    "    )\n",
    "    \n",
    "    mlp.fit(X_train_scaled, y_train)\n",
    "    y_pred = mlp.predict(X_test_scaled)\n",
    "    \n",
    "    precision = precision_score(y_test, y_pred, average='macro')\n",
    "    recall = recall_score(y_test, y_pred, average='macro')\n",
    "    f1 = f1_score(y_test, y_pred, average='macro')\n",
    "    \n",
    "    print(f\"Precision: {precision:.4f}\")\n",
    "    print(f\"Recall: {recall:.4f}\")\n",
    "    print(f\"F1 Score: {f1:.4f}\")\n",
    "    \n",
    "    results_scaled.append({\n",
    "        'activation': activation,\n",
    "        'precision': precision,\n",
    "        'recall': recall,\n",
    "        'f1': f1\n",
    "    })"
   ]
  },
  {
   "cell_type": "markdown",
   "id": "cf39aceb",
   "metadata": {},
   "source": [
    "#### GridSearch to find the best parameters"
   ]
  },
  {
   "cell_type": "code",
   "execution_count": null,
   "id": "9eb908f3",
   "metadata": {},
   "outputs": [
    {
     "name": "stdout",
     "output_type": "stream",
     "text": [
      "Fitting 3 folds for each of 72 candidates, totalling 216 fits\n",
      "Best parameters: {'activation': 'tanh', 'alpha': 0.001, 'hidden_layer_sizes': (100,), 'learning_rate_init': 0.01, 'solver': 'adam'}\n",
      "Optimized Precision: 0.9776\n",
      "Optimized Recall: 0.9775\n",
      "Optimized F1 Score: 0.9774\n"
     ]
    }
   ],
   "source": [
    "param_grid = {\n",
    "    'hidden_layer_sizes': [(50,), (100,), (50, 50)],  # Structure of hidden layers\n",
    "    'activation': ['logistic', 'tanh', 'relu'],                   # Activation functions\n",
    "    'solver': ['adam', 'sgd'],                        # Optimizer\n",
    "    'alpha': [0.0001, 0.001],                         # L2 regularization term\n",
    "    'learning_rate_init': [0.001, 0.01]               # Initial learning rate\n",
    "}\n",
    "\n",
    "grid_search = GridSearchCV(\n",
    "    estimator=MLPClassifier(max_iter=max_iter, random_state=42),\n",
    "    param_grid=param_grid,\n",
    "    cv=3,                           \n",
    "    scoring='f1_macro',             \n",
    "    n_jobs=-1,                      # Use all available cores\n",
    "    verbose=2,                       # Print detailed output\n",
    ")\n",
    "\n",
    "\n",
    "grid_search.fit(X_train, y_train)\n",
    "\n",
    "# Print the best parameters found by GridSearchCV\n",
    "print(\"Best parameters:\", grid_search.best_params_)\n",
    "\n",
    "# Predict using the best estimator\n",
    "best_mlp = grid_search.best_estimator_\n",
    "y_pred_best = best_mlp.predict(X_test)\n",
    "\n",
    "# Evaluate the best model\n",
    "precision_best = precision_score(y_test, y_pred_best, average='macro')\n",
    "recall_best = recall_score(y_test, y_pred_best, average='macro')\n",
    "f1_best = f1_score(y_test, y_pred_best, average='macro')\n",
    "\n",
    "print(f\"Optimized Precision: {precision_best:.4f}\")\n",
    "print(f\"Optimized Recall: {recall_best:.4f}\")\n",
    "print(f\"Optimized F1 Score: {f1_best:.4f}\")"
   ]
  }
 ],
 "metadata": {
  "kernelspec": {
   "display_name": "base",
   "language": "python",
   "name": "python3"
  },
  "language_info": {
   "codemirror_mode": {
    "name": "ipython",
    "version": 3
   },
   "file_extension": ".py",
   "mimetype": "text/x-python",
   "name": "python",
   "nbconvert_exporter": "python",
   "pygments_lexer": "ipython3",
   "version": "3.12.3"
  }
 },
 "nbformat": 4,
 "nbformat_minor": 5
}
